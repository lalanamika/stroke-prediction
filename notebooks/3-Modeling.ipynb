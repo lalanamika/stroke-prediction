{
 "cells": [
  {
   "cell_type": "markdown",
   "metadata": {},
   "source": [
    "TODO: Add Title, TOC, Intro, Goal"
   ]
  },
  {
   "cell_type": "code",
   "execution_count": 13,
   "metadata": {},
   "outputs": [],
   "source": [
    "import numpy as np\n",
    "import pandas as pd\n",
    "import matplotlib.pyplot as plt\n",
    "import seaborn as sns"
   ]
  },
  {
   "cell_type": "code",
   "execution_count": 14,
   "metadata": {},
   "outputs": [
    {
     "data": {
      "text/plain": [
       "'pandas version: 2.1.4'"
      ]
     },
     "execution_count": 14,
     "metadata": {},
     "output_type": "execute_result"
    }
   ],
   "source": [
    "f\"pandas version: {pd.__version__}\""
   ]
  },
  {
   "cell_type": "code",
   "execution_count": 15,
   "metadata": {},
   "outputs": [],
   "source": [
    "# Load the data\n",
    "df = pd.read_csv(\"../data/interim/healthcare-stroke-data-preprocessed.csv\", index_col='id')"
   ]
  },
  {
   "cell_type": "code",
   "execution_count": 16,
   "metadata": {},
   "outputs": [
    {
     "data": {
      "text/html": [
       "<div>\n",
       "<style scoped>\n",
       "    .dataframe tbody tr th:only-of-type {\n",
       "        vertical-align: middle;\n",
       "    }\n",
       "\n",
       "    .dataframe tbody tr th {\n",
       "        vertical-align: top;\n",
       "    }\n",
       "\n",
       "    .dataframe thead th {\n",
       "        text-align: right;\n",
       "    }\n",
       "</style>\n",
       "<table border=\"1\" class=\"dataframe\">\n",
       "  <thead>\n",
       "    <tr style=\"text-align: right;\">\n",
       "      <th></th>\n",
       "      <th>age</th>\n",
       "      <th>hypertension</th>\n",
       "      <th>heart_disease</th>\n",
       "      <th>avg_glucose_level</th>\n",
       "      <th>bmi</th>\n",
       "      <th>stroke</th>\n",
       "      <th>gender</th>\n",
       "      <th>ever_married</th>\n",
       "      <th>residence_type</th>\n",
       "      <th>smoking_status_never_smoked</th>\n",
       "      <th>smoking_status_smokes</th>\n",
       "      <th>work_type_govt_job</th>\n",
       "      <th>work_type_never_worked</th>\n",
       "      <th>work_type_private</th>\n",
       "      <th>work_type_self_employed</th>\n",
       "    </tr>\n",
       "    <tr>\n",
       "      <th>id</th>\n",
       "      <th></th>\n",
       "      <th></th>\n",
       "      <th></th>\n",
       "      <th></th>\n",
       "      <th></th>\n",
       "      <th></th>\n",
       "      <th></th>\n",
       "      <th></th>\n",
       "      <th></th>\n",
       "      <th></th>\n",
       "      <th></th>\n",
       "      <th></th>\n",
       "      <th></th>\n",
       "      <th></th>\n",
       "      <th></th>\n",
       "    </tr>\n",
       "  </thead>\n",
       "  <tbody>\n",
       "    <tr>\n",
       "      <th>9046</th>\n",
       "      <td>67.0</td>\n",
       "      <td>0</td>\n",
       "      <td>1</td>\n",
       "      <td>228.69</td>\n",
       "      <td>36.6</td>\n",
       "      <td>1</td>\n",
       "      <td>0</td>\n",
       "      <td>1</td>\n",
       "      <td>1</td>\n",
       "      <td>0</td>\n",
       "      <td>1</td>\n",
       "      <td>0</td>\n",
       "      <td>0</td>\n",
       "      <td>1</td>\n",
       "      <td>0</td>\n",
       "    </tr>\n",
       "    <tr>\n",
       "      <th>51676</th>\n",
       "      <td>61.0</td>\n",
       "      <td>0</td>\n",
       "      <td>0</td>\n",
       "      <td>202.21</td>\n",
       "      <td>30.5</td>\n",
       "      <td>1</td>\n",
       "      <td>1</td>\n",
       "      <td>1</td>\n",
       "      <td>0</td>\n",
       "      <td>1</td>\n",
       "      <td>0</td>\n",
       "      <td>0</td>\n",
       "      <td>0</td>\n",
       "      <td>0</td>\n",
       "      <td>1</td>\n",
       "    </tr>\n",
       "    <tr>\n",
       "      <th>31112</th>\n",
       "      <td>80.0</td>\n",
       "      <td>0</td>\n",
       "      <td>1</td>\n",
       "      <td>105.92</td>\n",
       "      <td>32.5</td>\n",
       "      <td>1</td>\n",
       "      <td>0</td>\n",
       "      <td>1</td>\n",
       "      <td>0</td>\n",
       "      <td>1</td>\n",
       "      <td>0</td>\n",
       "      <td>0</td>\n",
       "      <td>0</td>\n",
       "      <td>1</td>\n",
       "      <td>0</td>\n",
       "    </tr>\n",
       "    <tr>\n",
       "      <th>60182</th>\n",
       "      <td>49.0</td>\n",
       "      <td>0</td>\n",
       "      <td>0</td>\n",
       "      <td>171.23</td>\n",
       "      <td>34.4</td>\n",
       "      <td>1</td>\n",
       "      <td>1</td>\n",
       "      <td>1</td>\n",
       "      <td>1</td>\n",
       "      <td>0</td>\n",
       "      <td>1</td>\n",
       "      <td>0</td>\n",
       "      <td>0</td>\n",
       "      <td>1</td>\n",
       "      <td>0</td>\n",
       "    </tr>\n",
       "    <tr>\n",
       "      <th>1665</th>\n",
       "      <td>79.0</td>\n",
       "      <td>1</td>\n",
       "      <td>0</td>\n",
       "      <td>174.12</td>\n",
       "      <td>24.0</td>\n",
       "      <td>1</td>\n",
       "      <td>1</td>\n",
       "      <td>1</td>\n",
       "      <td>0</td>\n",
       "      <td>1</td>\n",
       "      <td>0</td>\n",
       "      <td>0</td>\n",
       "      <td>0</td>\n",
       "      <td>0</td>\n",
       "      <td>1</td>\n",
       "    </tr>\n",
       "  </tbody>\n",
       "</table>\n",
       "</div>"
      ],
      "text/plain": [
       "        age  hypertension  heart_disease  avg_glucose_level   bmi  stroke  \\\n",
       "id                                                                          \n",
       "9046   67.0             0              1             228.69  36.6       1   \n",
       "51676  61.0             0              0             202.21  30.5       1   \n",
       "31112  80.0             0              1             105.92  32.5       1   \n",
       "60182  49.0             0              0             171.23  34.4       1   \n",
       "1665   79.0             1              0             174.12  24.0       1   \n",
       "\n",
       "       gender  ever_married  residence_type  smoking_status_never_smoked  \\\n",
       "id                                                                         \n",
       "9046        0             1               1                            0   \n",
       "51676       1             1               0                            1   \n",
       "31112       0             1               0                            1   \n",
       "60182       1             1               1                            0   \n",
       "1665        1             1               0                            1   \n",
       "\n",
       "       smoking_status_smokes  work_type_govt_job  work_type_never_worked  \\\n",
       "id                                                                         \n",
       "9046                       1                   0                       0   \n",
       "51676                      0                   0                       0   \n",
       "31112                      0                   0                       0   \n",
       "60182                      1                   0                       0   \n",
       "1665                       0                   0                       0   \n",
       "\n",
       "       work_type_private  work_type_self_employed  \n",
       "id                                                 \n",
       "9046                   1                        0  \n",
       "51676                  0                        1  \n",
       "31112                  1                        0  \n",
       "60182                  1                        0  \n",
       "1665                   0                        1  "
      ]
     },
     "execution_count": 16,
     "metadata": {},
     "output_type": "execute_result"
    }
   ],
   "source": [
    "df.head()"
   ]
  },
  {
   "cell_type": "code",
   "execution_count": 17,
   "metadata": {},
   "outputs": [
    {
     "data": {
      "text/plain": [
       "(5109, 15)"
      ]
     },
     "execution_count": 17,
     "metadata": {},
     "output_type": "execute_result"
    }
   ],
   "source": [
    "df.shape"
   ]
  },
  {
   "cell_type": "code",
   "execution_count": 18,
   "metadata": {},
   "outputs": [
    {
     "data": {
      "text/plain": [
       "((5109, 14), (5109,))"
      ]
     },
     "execution_count": 18,
     "metadata": {},
     "output_type": "execute_result"
    }
   ],
   "source": [
    "# independent variables\n",
    "X = df.drop(columns='stroke')\n",
    "\n",
    "# target / dependent variable\n",
    "y = df['stroke']\n",
    "\n",
    "X.shape, y.shape"
   ]
  },
  {
   "cell_type": "markdown",
   "metadata": {},
   "source": [
    "We can proceed to the model building phase of our analysis. First, we need to ensure that certain assumption hold about the data: these include our samples being independent and identically distributed, and that the independent variables are not collinear or show multicollinearity."
   ]
  },
  {
   "cell_type": "markdown",
   "metadata": {},
   "source": [
    "### Detecting Collinearity"
   ]
  },
  {
   "cell_type": "markdown",
   "metadata": {},
   "source": [
    "This applies to Linear and Logistic Regression models."
   ]
  },
  {
   "cell_type": "code",
   "execution_count": 19,
   "metadata": {},
   "outputs": [
    {
     "name": "stderr",
     "output_type": "stream",
     "text": [
      "c:\\Users\\anami\\anaconda3\\Lib\\site-packages\\seaborn\\matrix.py:260: FutureWarning: Format strings passed to MaskedConstant are ignored, but in future may error or produce different behavior\n",
      "  annotation = (\"{:\" + self.fmt + \"}\").format(val)\n"
     ]
    },
    {
     "data": {
      "image/png": "[encoded data removed]",
      "text/plain": [
       "<Figure size 640x480 with 2 Axes>"
      ]
     },
     "metadata": {},
     "output_type": "display_data"
    }
   ],
   "source": [
    "corr = X.corr()\n",
    "mask = np.triu(np.ones_like(corr, dtype=bool))\n",
    "plt.figure()\n",
    "sns.heatmap(corr, mask=mask, center=0, annot=True, cmap=\"coolwarm\", vmax=1.0, vmin=-1.0)\n",
    "plt.show()"
   ]
  },
  {
   "cell_type": "markdown",
   "metadata": {},
   "source": [
    "Ideally, we should not include multiple columns if they are correlated with one another strongly (>0.5 or  <-0.5):\n",
    "- age and ever married\n",
    "\n",
    "We will keep these in mind and not include the strongly correlated pairs in the model together, if we are using Logistic Regression\n",
    "\n",
    "Also note that this correlation function is really best fit to evaluate the numeric columns, not the dummies."
   ]
  },
  {
   "cell_type": "markdown",
   "metadata": {},
   "source": [
    "## Split the data into train and test sets, and scale it"
   ]
  },
  {
   "cell_type": "code",
   "execution_count": 53,
   "metadata": {},
   "outputs": [],
   "source": [
    "from sklearn.linear_model import LogisticRegression\n",
    "# try with basic train test split\n",
    "from sklearn.model_selection import train_test_split\n",
    "from sklearn.preprocessing import StandardScaler\n",
    "from sklearn.model_selection import GridSearchCV\n",
    "\n",
    "X_train_unscaled, X_test_unscaled, y_train, y_test = train_test_split(X, y,\n",
    "                                                    test_size=0.3,\n",
    "                                                    random_state=19,\n",
    "                                                    stratify=y)\n",
    "# TODO: try with GridSearchCV\n"
   ]
  },
  {
   "cell_type": "code",
   "execution_count": 54,
   "metadata": {},
   "outputs": [
    {
     "name": "stdout",
     "output_type": "stream",
     "text": [
      "(3576, 14)\n",
      "(1533, 14)\n"
     ]
    }
   ],
   "source": [
    "print(X_train_unscaled.shape)\n",
    "print(X_test_unscaled.shape)"
   ]
  },
  {
   "cell_type": "code",
   "execution_count": 55,
   "metadata": {},
   "outputs": [],
   "source": [
    "# After spliting our data, we can scale the data using Standard Scaler:\n",
    "scaler = StandardScaler()\n",
    "X_train = scaler.fit_transform(X_train_unscaled)\n",
    "X_test = scaler.transform(X_test_unscaled)"
   ]
  },
  {
   "cell_type": "markdown",
   "metadata": {},
   "source": [
    "Now we can proceed to do the modeling."
   ]
  },
  {
   "cell_type": "markdown",
   "metadata": {},
   "source": [
    "## Logistic regression"
   ]
  },
  {
   "cell_type": "code",
   "execution_count": 56,
   "metadata": {},
   "outputs": [
    {
     "name": "stdout",
     "output_type": "stream",
     "text": [
      "0.9516219239373602\n"
     ]
    }
   ],
   "source": [
    "logreg = LogisticRegression()  # no hyperparameter optimization - TODO\n",
    "logreg.fit(X_train, y_train)\n",
    "score_train = logreg.score(X_train, y_train)\n",
    "print(score_train)"
   ]
  },
  {
   "cell_type": "code",
   "execution_count": 57,
   "metadata": {},
   "outputs": [
    {
     "name": "stdout",
     "output_type": "stream",
     "text": [
      "0.9510763209393346\n"
     ]
    }
   ],
   "source": [
    "score_test = logreg.score(X_test, y_test)\n",
    "print(score_test)"
   ]
  },
  {
   "cell_type": "markdown",
   "metadata": {},
   "source": [
    "Without hyperparameter optimization:  \n",
    "Train scores: 95.16% accuracy  \n",
    "Test scores: 95.1% accuracy  "
   ]
  },
  {
   "cell_type": "markdown",
   "metadata": {},
   "source": [
    "Test set has an accuracy of 95.10 %, that's very close to the accuracy on the training set."
   ]
  },
  {
   "cell_type": "code",
   "execution_count": 58,
   "metadata": {},
   "outputs": [
    {
     "name": "stdout",
     "output_type": "stream",
     "text": [
      "<class 'pandas.core.frame.DataFrame'>\n",
      "Index: 3576 entries, 45252 to 27436\n",
      "Data columns (total 14 columns):\n",
      " #   Column                       Non-Null Count  Dtype  \n",
      "---  ------                       --------------  -----  \n",
      " 0   age                          3576 non-null   float64\n",
      " 1   hypertension                 3576 non-null   int64  \n",
      " 2   heart_disease                3576 non-null   int64  \n",
      " 3   avg_glucose_level            3576 non-null   float64\n",
      " 4   bmi                          3576 non-null   float64\n",
      " 5   gender                       3576 non-null   int64  \n",
      " 6   ever_married                 3576 non-null   int64  \n",
      " 7   residence_type               3576 non-null   int64  \n",
      " 8   smoking_status_never_smoked  3576 non-null   int64  \n",
      " 9   smoking_status_smokes        3576 non-null   int64  \n",
      " 10  work_type_govt_job           3576 non-null   int64  \n",
      " 11  work_type_never_worked       3576 non-null   int64  \n",
      " 12  work_type_private            3576 non-null   int64  \n",
      " 13  work_type_self_employed      3576 non-null   int64  \n",
      "dtypes: float64(3), int64(11)\n",
      "memory usage: 419.1 KB\n"
     ]
    }
   ],
   "source": [
    "X_train_unscaled.info()"
   ]
  },
  {
   "cell_type": "markdown",
   "metadata": {},
   "source": [
    "In our EDA we saw that age and ever_married are collinear. Let's drop ever_married and see whether it improves accuracy."
   ]
  },
  {
   "cell_type": "code",
   "execution_count": 59,
   "metadata": {},
   "outputs": [
    {
     "name": "stdout",
     "output_type": "stream",
     "text": [
      "0.9513422818791947\n",
      "0.9510763209393346\n"
     ]
    }
   ],
   "source": [
    "# X_train_mod = X_train.drop(columns=['ever_married'])\n",
    "# X_test_mod = X_test.drop(columns=['ever_married'])\n",
    "# X_train_mod = X_train.drop(columns=['age'])\n",
    "# X_test_mod = X_test.drop(columns=['age'])\n",
    "scaler2 = StandardScaler()\n",
    "X_train_mod = scaler2.fit_transform(X_train_unscaled.drop(columns=['ever_married', 'gender', 'hypertension']))\n",
    "X_test_mod = scaler2.transform(X_test_unscaled.drop(columns=['ever_married', 'gender', 'hypertension']))\n",
    "logreg2 = LogisticRegression()\n",
    "logreg2.fit(X_train_mod, y_train)\n",
    "\n",
    "print(logreg2.score(X_train_mod, y_train))\n",
    "\n",
    "print(logreg2.score(X_test_mod, y_test))\n"
   ]
  },
  {
   "cell_type": "markdown",
   "metadata": {},
   "source": [
    "Removing features in decreasing the accuracy on the training set from 95.16% to 95.13%. We will keep all the features."
   ]
  },
  {
   "cell_type": "markdown",
   "metadata": {},
   "source": [
    "### Hyperparameter Optimization"
   ]
  },
  {
   "cell_type": "markdown",
   "metadata": {},
   "source": [
    "Let's employ a GridSearch to see if we can get better scores from LogisticRegression"
   ]
  },
  {
   "cell_type": "code",
   "execution_count": 60,
   "metadata": {},
   "outputs": [
    {
     "name": "stderr",
     "output_type": "stream",
     "text": [
      "c:\\Users\\anami\\anaconda3\\Lib\\site-packages\\sklearn\\linear_model\\_sag.py:350: ConvergenceWarning: The max_iter was reached which means the coef_ did not converge\n",
      "  warnings.warn(\n",
      "c:\\Users\\anami\\anaconda3\\Lib\\site-packages\\sklearn\\linear_model\\_sag.py:350: ConvergenceWarning: The max_iter was reached which means the coef_ did not converge\n",
      "  warnings.warn(\n",
      "c:\\Users\\anami\\anaconda3\\Lib\\site-packages\\sklearn\\linear_model\\_sag.py:350: ConvergenceWarning: The max_iter was reached which means the coef_ did not converge\n",
      "  warnings.warn(\n",
      "c:\\Users\\anami\\anaconda3\\Lib\\site-packages\\sklearn\\linear_model\\_sag.py:350: ConvergenceWarning: The max_iter was reached which means the coef_ did not converge\n",
      "  warnings.warn(\n",
      "c:\\Users\\anami\\anaconda3\\Lib\\site-packages\\sklearn\\linear_model\\_sag.py:350: ConvergenceWarning: The max_iter was reached which means the coef_ did not converge\n",
      "  warnings.warn(\n",
      "c:\\Users\\anami\\anaconda3\\Lib\\site-packages\\sklearn\\linear_model\\_sag.py:350: ConvergenceWarning: The max_iter was reached which means the coef_ did not converge\n",
      "  warnings.warn(\n",
      "c:\\Users\\anami\\anaconda3\\Lib\\site-packages\\sklearn\\linear_model\\_sag.py:350: ConvergenceWarning: The max_iter was reached which means the coef_ did not converge\n",
      "  warnings.warn(\n",
      "c:\\Users\\anami\\anaconda3\\Lib\\site-packages\\sklearn\\linear_model\\_sag.py:350: ConvergenceWarning: The max_iter was reached which means the coef_ did not converge\n",
      "  warnings.warn(\n",
      "c:\\Users\\anami\\anaconda3\\Lib\\site-packages\\sklearn\\linear_model\\_sag.py:350: ConvergenceWarning: The max_iter was reached which means the coef_ did not converge\n",
      "  warnings.warn(\n",
      "c:\\Users\\anami\\anaconda3\\Lib\\site-packages\\sklearn\\linear_model\\_sag.py:350: ConvergenceWarning: The max_iter was reached which means the coef_ did not converge\n",
      "  warnings.warn(\n",
      "c:\\Users\\anami\\anaconda3\\Lib\\site-packages\\sklearn\\linear_model\\_sag.py:350: ConvergenceWarning: The max_iter was reached which means the coef_ did not converge\n",
      "  warnings.warn(\n",
      "c:\\Users\\anami\\anaconda3\\Lib\\site-packages\\sklearn\\linear_model\\_sag.py:350: ConvergenceWarning: The max_iter was reached which means the coef_ did not converge\n",
      "  warnings.warn(\n",
      "c:\\Users\\anami\\anaconda3\\Lib\\site-packages\\sklearn\\linear_model\\_sag.py:350: ConvergenceWarning: The max_iter was reached which means the coef_ did not converge\n",
      "  warnings.warn(\n",
      "c:\\Users\\anami\\anaconda3\\Lib\\site-packages\\sklearn\\linear_model\\_sag.py:350: ConvergenceWarning: The max_iter was reached which means the coef_ did not converge\n",
      "  warnings.warn(\n",
      "c:\\Users\\anami\\anaconda3\\Lib\\site-packages\\sklearn\\linear_model\\_sag.py:350: ConvergenceWarning: The max_iter was reached which means the coef_ did not converge\n",
      "  warnings.warn(\n",
      "c:\\Users\\anami\\anaconda3\\Lib\\site-packages\\sklearn\\linear_model\\_sag.py:350: ConvergenceWarning: The max_iter was reached which means the coef_ did not converge\n",
      "  warnings.warn(\n",
      "c:\\Users\\anami\\anaconda3\\Lib\\site-packages\\sklearn\\linear_model\\_sag.py:350: ConvergenceWarning: The max_iter was reached which means the coef_ did not converge\n",
      "  warnings.warn(\n",
      "c:\\Users\\anami\\anaconda3\\Lib\\site-packages\\sklearn\\linear_model\\_sag.py:350: ConvergenceWarning: The max_iter was reached which means the coef_ did not converge\n",
      "  warnings.warn(\n",
      "c:\\Users\\anami\\anaconda3\\Lib\\site-packages\\sklearn\\linear_model\\_sag.py:350: ConvergenceWarning: The max_iter was reached which means the coef_ did not converge\n",
      "  warnings.warn(\n",
      "c:\\Users\\anami\\anaconda3\\Lib\\site-packages\\sklearn\\linear_model\\_sag.py:350: ConvergenceWarning: The max_iter was reached which means the coef_ did not converge\n",
      "  warnings.warn(\n",
      "c:\\Users\\anami\\anaconda3\\Lib\\site-packages\\sklearn\\linear_model\\_sag.py:350: ConvergenceWarning: The max_iter was reached which means the coef_ did not converge\n",
      "  warnings.warn(\n",
      "c:\\Users\\anami\\anaconda3\\Lib\\site-packages\\sklearn\\linear_model\\_sag.py:350: ConvergenceWarning: The max_iter was reached which means the coef_ did not converge\n",
      "  warnings.warn(\n",
      "c:\\Users\\anami\\anaconda3\\Lib\\site-packages\\sklearn\\linear_model\\_sag.py:350: ConvergenceWarning: The max_iter was reached which means the coef_ did not converge\n",
      "  warnings.warn(\n",
      "c:\\Users\\anami\\anaconda3\\Lib\\site-packages\\sklearn\\svm\\_base.py:1244: ConvergenceWarning: Liblinear failed to converge, increase the number of iterations.\n",
      "  warnings.warn(\n",
      "c:\\Users\\anami\\anaconda3\\Lib\\site-packages\\sklearn\\linear_model\\_sag.py:350: ConvergenceWarning: The max_iter was reached which means the coef_ did not converge\n",
      "  warnings.warn(\n",
      "c:\\Users\\anami\\anaconda3\\Lib\\site-packages\\sklearn\\linear_model\\_sag.py:350: ConvergenceWarning: The max_iter was reached which means the coef_ did not converge\n",
      "  warnings.warn(\n",
      "c:\\Users\\anami\\anaconda3\\Lib\\site-packages\\sklearn\\linear_model\\_sag.py:350: ConvergenceWarning: The max_iter was reached which means the coef_ did not converge\n",
      "  warnings.warn(\n",
      "c:\\Users\\anami\\anaconda3\\Lib\\site-packages\\sklearn\\linear_model\\_sag.py:350: ConvergenceWarning: The max_iter was reached which means the coef_ did not converge\n",
      "  warnings.warn(\n",
      "c:\\Users\\anami\\anaconda3\\Lib\\site-packages\\sklearn\\linear_model\\_sag.py:350: ConvergenceWarning: The max_iter was reached which means the coef_ did not converge\n",
      "  warnings.warn(\n"
     ]
    }
   ],
   "source": [
    "# Let's employ a GridSearch to see if we can get better scores from LogisticRegression\n",
    "# Define the parameters that the GridSearch will search through\n",
    "param_grid = [\n",
    "    {\n",
    "        'penalty': ['l1', 'l2'],\n",
    "        'solver': ['saga', 'liblinear'],\n",
    "        'C': [0.001, 0.01, 0.1, 1, 10, 100]\n",
    "    }\n",
    "]\n",
    "# use GridSearchCv to search through LogisticRegression, cross-validation=5\n",
    "grid = GridSearchCV(LogisticRegression(), param_grid, cv=5)\n",
    "fittedgrid = grid.fit(X_train, y_train)"
   ]
  },
  {
   "cell_type": "markdown",
   "metadata": {},
   "source": [
    "Let's see what the best hyperparameters and score for Logistic Regression are:"
   ]
  },
  {
   "cell_type": "code",
   "execution_count": 61,
   "metadata": {},
   "outputs": [
    {
     "name": "stdout",
     "output_type": "stream",
     "text": [
      "Best parameters are: {'C': 0.1, 'penalty': 'l2', 'solver': 'saga'}\n",
      "Best score is: 0.9516220650857521\n"
     ]
    }
   ],
   "source": [
    "# Best hyperparameters\n",
    "best_params = fittedgrid.best_params_\n",
    "#best score\n",
    "best_score = fittedgrid.best_score_\n",
    "#print\n",
    "print(f'Best parameters are: {best_params}')\n",
    "print(f'Best score is: {best_score}')"
   ]
  },
  {
   "cell_type": "markdown",
   "metadata": {},
   "source": [
    "Now we know what are the hyperparameters that logistic regression needs, and we can build the logistic regression with these parameters:"
   ]
  },
  {
   "cell_type": "code",
   "execution_count": 62,
   "metadata": {},
   "outputs": [
    {
     "name": "stdout",
     "output_type": "stream",
     "text": [
      "Train Score: 0.9516219239373602\n",
      "Test Score: 0.9510763209393346\n"
     ]
    },
    {
     "name": "stderr",
     "output_type": "stream",
     "text": [
      "c:\\Users\\anami\\anaconda3\\Lib\\site-packages\\sklearn\\linear_model\\_sag.py:350: ConvergenceWarning: The max_iter was reached which means the coef_ did not converge\n",
      "  warnings.warn(\n"
     ]
    }
   ],
   "source": [
    "# instantiate the logistic regression model with the best hyperparameters\n",
    "best_log_reg = LogisticRegression(C = 1,\n",
    "                                  penalty = 'l1',\n",
    "                                  solver = 'saga',\n",
    "                                  )\n",
    "\n",
    "#Fit training data\n",
    "best_log_reg.fit(X_train, y_train)\n",
    "\n",
    "#Print the train and test score\n",
    "print(f'Train Score: {best_log_reg.score(X_train, y_train)}')\n",
    "print(f'Test Score: {best_log_reg.score(X_test, y_test)}')"
   ]
  },
  {
   "cell_type": "markdown",
   "metadata": {},
   "source": [
    "Hyperparameter optimization didn't help improve the score significantly in this case.\n",
    "| Hyperparameters Optimized? | Train Score | Test Score |\n",
    "|----------------------------|------------:|-----------:|\n",
    "| No                         |      95.16% |     95.10% |\n",
    "| Yes                        |      95.18% |     95.10% |"
   ]
  },
  {
   "cell_type": "markdown",
   "metadata": {},
   "source": [
    "## Support Vector Classifier"
   ]
  },
  {
   "cell_type": "code",
   "execution_count": 63,
   "metadata": {},
   "outputs": [
    {
     "name": "stdout",
     "output_type": "stream",
     "text": [
      "0.9513422818791947\n",
      "0.9510763209393346\n"
     ]
    }
   ],
   "source": [
    "from sklearn.svm import SVC\n",
    "svc = SVC() # there is a note about which metric to use in Huma article check that\n",
    "svc.fit(X_train, y_train)\n",
    "print(svc.score(X_train, y_train))\n",
    "print(svc.score(X_test, y_test))"
   ]
  },
  {
   "cell_type": "code",
   "execution_count": 64,
   "metadata": {},
   "outputs": [
    {
     "name": "stdout",
     "output_type": "stream",
     "text": [
      "0.9513422818791947\n",
      "0.9510763209393346\n"
     ]
    }
   ],
   "source": [
    "svc_gaussian = SVC(kernel='rbf')  # rbf is the default kernel?\n",
    "svc_gaussian.fit(X_train, y_train)\n",
    "print(svc_gaussian.score(X_train, y_train))\n",
    "print(svc_gaussian.score(X_test, y_test))"
   ]
  },
  {
   "cell_type": "markdown",
   "metadata": {},
   "source": [
    "### Hyperparameter Optimization"
   ]
  },
  {
   "cell_type": "code",
   "execution_count": 65,
   "metadata": {},
   "outputs": [],
   "source": [
    "#define the parameters that the GridSearch will search through\n",
    "param_grid = [\n",
    "    {\n",
    "        'C': [1e-2, 1, 1e2],\n",
    "        'gamma': [1e-1, 1, 1e1],\n",
    "        'kernel': ['rbf']\n",
    "    }\n",
    "]\n",
    "#use GridSearch\n",
    "grid = GridSearchCV(SVC(), param_grid, cv=5)\n",
    "fittedgrid = grid.fit(X_train, y_train)"
   ]
  },
  {
   "cell_type": "code",
   "execution_count": 66,
   "metadata": {},
   "outputs": [
    {
     "name": "stdout",
     "output_type": "stream",
     "text": [
      "Best parameters are: {'C': 0.01, 'gamma': 0.1, 'kernel': 'rbf'}\n",
      "Best score is: 0.9513423448060319\n"
     ]
    }
   ],
   "source": [
    "# Best hyperparameters\n",
    "best_params = fittedgrid.best_params_\n",
    "#best score\n",
    "best_score = fittedgrid.best_score_\n",
    "#print\n",
    "print(f'Best parameters are: {best_params}')\n",
    "print(f'Best score is: {best_score}')"
   ]
  },
  {
   "cell_type": "markdown",
   "metadata": {},
   "source": [
    "We can see that the best parameters are:  \n",
    "\n",
    "- C - 0.01\n",
    "- gamma - 0.1\n",
    "- kernel - 'rbf'\n",
    "\n",
    "The best score of the GridSearch is 95.13%, which is less than the score for Logistic Regression. We still want to see how this does on the test set.\n",
    "\n",
    "Now let's build the SVC model with those parameters:"
   ]
  },
  {
   "cell_type": "code",
   "execution_count": 67,
   "metadata": {},
   "outputs": [
    {
     "name": "stdout",
     "output_type": "stream",
     "text": [
      "Train Score: 0.9513422818791947\n",
      "Test Score: 0.9510763209393346\n"
     ]
    }
   ],
   "source": [
    "# instantiate the SVC with the best hyperparameters\n",
    "best_svc = SVC(kernel = 'rbf',\n",
    "               C = 0.01,\n",
    "               gamma = 0.1\n",
    "               )\n",
    "best_svc.fit(X_train, y_train)\n",
    "#Print the train and test score\n",
    "print(f'Train Score: {best_svc.score(X_train, y_train)}')\n",
    "print(f'Test Score: {best_svc.score(X_test, y_test)}')"
   ]
  },
  {
   "cell_type": "markdown",
   "metadata": {},
   "source": [
    "## Random Forest Classifier"
   ]
  },
  {
   "cell_type": "code",
   "execution_count": 68,
   "metadata": {},
   "outputs": [
    {
     "name": "stdout",
     "output_type": "stream",
     "text": [
      "1.0\n",
      "0.9517286366601435\n"
     ]
    }
   ],
   "source": [
    "from sklearn.ensemble import RandomForestClassifier\n",
    "rfc = RandomForestClassifier()\n",
    "rfc.fit(X_train, y_train)\n",
    "print(rfc.score(X_train, y_train))\n",
    "print(rfc.score(X_test, y_test))"
   ]
  },
  {
   "cell_type": "markdown",
   "metadata": {},
   "source": [
    "### Hyperparameter Optimization"
   ]
  },
  {
   "cell_type": "code",
   "execution_count": 69,
   "metadata": {},
   "outputs": [],
   "source": [
    "#define the parameters that the GridSearch will search through\n",
    "param_grid = [\n",
    "    {\n",
    "        'n_estimators': [10, 50, 100, 150, 200, 300, 400, 500],\n",
    "        'max_depth': [10,20,30,40,50]\n",
    "    }\n",
    "]\n",
    "#use GridSearch\n",
    "grid = GridSearchCV(RandomForestClassifier(), param_grid, cv=5)\n",
    "fittedgrid = grid.fit(X_train, y_train)"
   ]
  },
  {
   "cell_type": "code",
   "execution_count": 70,
   "metadata": {},
   "outputs": [
    {
     "name": "stdout",
     "output_type": "stream",
     "text": [
      "Best parameters are: {'max_depth': 10, 'n_estimators': 300}\n",
      "Best score is: 0.9510626245263116\n"
     ]
    }
   ],
   "source": [
    "# Best hyperparameters\n",
    "best_params = fittedgrid.best_params_\n",
    "#best score\n",
    "best_score = fittedgrid.best_score_\n",
    "#print\n",
    "print(f'Best parameters are: {best_params}')\n",
    "print(f'Best score is: {best_score}')"
   ]
  },
  {
   "cell_type": "markdown",
   "metadata": {},
   "source": [
    "We can see that the best parameters are:  \n",
    "\n",
    "- maximum depth - 10\n",
    "- number of estimators - 500\n",
    "\n",
    "The best score of the GridSearch is 95.08%, which is less than the score for Logistic Regression and Support Vector Machine. We still want to see how this does on the test set.\n",
    "\n",
    "Now let's build the Random Forest Classifier model with those parameters:"
   ]
  },
  {
   "cell_type": "code",
   "execution_count": 71,
   "metadata": {},
   "outputs": [
    {
     "name": "stdout",
     "output_type": "stream",
     "text": [
      "Train Score: 0.9714765100671141\n",
      "Test Score: 0.9510763209393346\n"
     ]
    }
   ],
   "source": [
    "# instantiate the Random Forest Classifier with the best hyperparameters\n",
    "best_ran_f = RandomForestClassifier(max_depth = 10,\n",
    "                                       n_estimators= 500\n",
    "                                    )\n",
    "best_ran_f.fit(X_train, y_train)\n",
    "#Print the train and test score\n",
    "print(f'Train Score: {best_ran_f.score(X_train, y_train)}')\n",
    "print(f'Test Score: {best_ran_f.score(X_test, y_test)}')"
   ]
  },
  {
   "cell_type": "markdown",
   "metadata": {},
   "source": [
    "| Model               | Hyperparameters optimized? | Train Score (accuracy) | Test Score (accuracy) |\n",
    "|---------------------|---------------------------:|-----------------------:|-----------------------|\n",
    "| Logistic Regression | No                         | 95.16%                 | 95.11%                |\n",
    "|                     | Yes                        | 95.18%                 | 95.11%                |\n",
    "| SVC                 | No                         | 95.15%                 | 95.11%                |\n",
    "|                     | Yes                        | 95.13%                 | 95.11%                |\n",
    "| Random Forest       | No                         | 100%                   | 94.91%                |\n",
    "|                     | Yes                        | 97.14%                 | 95.11%                |"
   ]
  },
  {
   "cell_type": "markdown",
   "metadata": {},
   "source": [
    "It looks like the maximum accuracy we are seeing for the test set is 95.11%. Let's look at the precision, recall, and confusion matrix of these models to see if there is any distinguishable advantage of one over the others."
   ]
  },
  {
   "cell_type": "markdown",
   "metadata": {},
   "source": [
    "## Model Evaluation"
   ]
  },
  {
   "cell_type": "markdown",
   "metadata": {},
   "source": [
    "### Classification report"
   ]
  }
 ],
 "metadata": {
  "kernelspec": {
   "display_name": "base",
   "language": "python",
   "name": "python3"
  },
  "language_info": {
   "codemirror_mode": {
    "name": "ipython",
    "version": 3
   },
   "file_extension": ".py",
   "mimetype": "text/x-python",
   "name": "python",
   "nbconvert_exporter": "python",
   "pygments_lexer": "ipython3",
   "version": "3.11.7"
  }
 },
 "nbformat": 4,
 "nbformat_minor": 2
}
